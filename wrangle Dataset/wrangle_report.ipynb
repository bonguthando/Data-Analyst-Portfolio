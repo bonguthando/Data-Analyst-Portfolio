{
 "cells": [
  {
   "cell_type": "markdown",
   "metadata": {},
   "source": [
    "## Reporting: wragle_report\n",
    "* Create a **300-600 word written report** called \"wrangle_report.pdf\" or \"wrangle_report.html\" that briefly describes your wrangling efforts. This is to be framed as an internal document."
   ]
  },
  {
   "cell_type": "markdown",
   "metadata": {},
   "source": [
    "\n",
    "I start by gathering 3 different datasets. Twitter_archive dataset was downloaded from Udacity classroom and read using pandas libraries, Image_predictions dataset is a link from the Udacity classroom and the Tweets_json dataset… In Jupyter Notebooks I imported the relevant packages I will require to display and analyse the data. These are: pandas, numpy, matplotlib, json, os and requests. I used pandas to read and assess the kind of data I am dealing with, using .info() on the Twitter_archive database to get an overview of the data. This was done on the Image_prediction and Tweet_json datasets. Then I used other tools such as .describe(), .duplicated(), .value_counts() and others to see if the data need to be cleaned.\n",
    "\n",
    " "
   ]
  },
  {
   "cell_type": "markdown",
   "metadata": {},
   "source": [
    "I identified some quality and tidiness issues as follows:\n",
    "\n",
    "### Quality Issues \n",
    "\n",
    "1. twitter_archive table: 'timestamp' has (+0000).\n",
    "2. twitter_atchive table: 'timestamp' datatype is object and not date time.\n",
    "3. tweets table: column \"id\" must be changed to \"tweet_id\" to match the other datasets. (+ drop columns not needed.)\n",
    "4. twitter_archive table: column 'name' has data such as \"none\" instead of np.nan.\n",
    "5. twitter_archive table: column 'rating_denominator' has values that are not 10.\n",
    "6. twitter_archive table: column 'rating_numerator' has values above 10.\n",
    "7. twitter_archive table: column 'source' has html referencing code (<a href = “link” /a>).\n",
    "8. not all columns are essential for the analysis.\n"
   ]
  },
  {
   "cell_type": "markdown",
   "metadata": {},
   "source": [
    "### Tidiness Issues \n",
    "\n",
    "1. images table and tweets table should be merged into twitter_archive table.\n",
    "2. twitter_archive table: columns 'doggo', 'floofer', 'pupper' and 'puppo' should be under one column as 'dog_stage'.\n",
    "\n",
    "I made copies of all the datasets before cleaning to preserve the original datasets. Then I went on to fix the identified issues by way of coding and testing on each issue to make sure that all the code runs without giving errors. Finally I visualised the data."
   ]
  },
  {
   "cell_type": "code",
   "execution_count": null,
   "metadata": {},
   "outputs": [],
   "source": []
  }
 ],
 "metadata": {
  "kernelspec": {
   "display_name": "Python 3",
   "language": "python",
   "name": "python3"
  },
  "language_info": {
   "codemirror_mode": {
    "name": "ipython",
    "version": 3
   },
   "file_extension": ".py",
   "mimetype": "text/x-python",
   "name": "python",
   "nbconvert_exporter": "python",
   "pygments_lexer": "ipython3",
   "version": "3.8.5"
  }
 },
 "nbformat": 4,
 "nbformat_minor": 4
}
